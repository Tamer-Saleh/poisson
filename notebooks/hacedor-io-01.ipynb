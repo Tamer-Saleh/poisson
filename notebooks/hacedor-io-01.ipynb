{
 "cells": [
  {
   "cell_type": "markdown",
   "metadata": {},
   "source": [
    "# `Dataset` Class"
   ]
  },
  {
   "cell_type": "code",
   "execution_count": null,
   "metadata": {},
   "outputs": [],
   "source": [
    "from torch.utils.data import DataLoader, Dataset"
   ]
  },
  {
   "cell_type": "code",
   "execution_count": null,
   "metadata": {},
   "outputs": [],
   "source": [
    "# From: https://www.kaggle.com/windsurfer/baseline-u-net-on-pytorch\n",
    "class ShipDataset(Dataset):\n",
    "    def __init__(self, in_df, transform=None, mode='train'):\n",
    "        grp = list(in_df.groupby('ImageId'))\n",
    "        self.image_ids =  [_id for _id, _ in grp] \n",
    "        self.image_masks = [m['EncodedPixels'].values for _,m in grp]\n",
    "        self.transform = transform\n",
    "        self.mode = mode\n",
    "        self.img_transform = Compose([\n",
    "        ToTensor(),\n",
    "        Normalize(mean=[0.485, 0.456, 0.406], std=[0.229, 0.224, 0.225])\n",
    "        ])\n",
    "\n",
    "    def __len__(self):\n",
    "        return len(self.image_ids)\n",
    "               \n",
    "    def __getitem__(self, idx):\n",
    "        img_file_name = self.image_ids[idx]\n",
    "        if self.mode == 'train':\n",
    "            rgb_path = os.path.join(train_image_dir, img_file_name)\n",
    "        else:\n",
    "            rgb_path = os.path.join(test_image_dir, img_file_name)\n",
    "        img = imread(rgb_path)\n",
    "        mask = masks_as_image(self.image_masks[idx])\n",
    "       \n",
    "        if self.transform is not None:\n",
    "            img, mask = self.transform(img, mask)\n",
    "\n",
    "        if self.mode == 'train':\n",
    "            #return self.to_float_tensor(img), self.to_float_tensor(mask)\n",
    "            #eturn img, mask\n",
    "            return self.img_transform(img), torch.from_numpy(np.moveaxis(mask, -1, 0)).float()\n",
    "        else:\n",
    "            return self.img_transform(img), str(img_file_name)"
   ]
  },
  {
   "cell_type": "markdown",
   "metadata": {},
   "source": [
    "# `Transform`s"
   ]
  },
  {
   "cell_type": "code",
   "execution_count": null,
   "metadata": {},
   "outputs": [],
   "source": []
  }
 ],
 "metadata": {
  "environment": {
   "name": "pytorch-gpu.1-4.m50",
   "type": "gcloud",
   "uri": "gcr.io/deeplearning-platform-release/pytorch-gpu.1-4:m50"
  },
  "kernelspec": {
   "display_name": "Python 3",
   "language": "python",
   "name": "python3"
  },
  "language_info": {
   "codemirror_mode": {
    "name": "ipython",
    "version": 3
   },
   "file_extension": ".py",
   "mimetype": "text/x-python",
   "name": "python",
   "nbconvert_exporter": "python",
   "pygments_lexer": "ipython3",
   "version": "3.7.6"
  }
 },
 "nbformat": 4,
 "nbformat_minor": 4
}
